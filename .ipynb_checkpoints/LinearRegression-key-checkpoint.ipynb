{
 "cells": [
  {
   "cell_type": "markdown",
   "metadata": {},
   "source": [
    "# TW6\n",
    "\n",
    "## Linear regression\n",
    "\n",
    "Students' names:\n",
    "\n",
    "- \n",
    "\n",
    "\n",
    "- \n",
    "\n"
   ]
  },
  {
   "cell_type": "markdown",
   "metadata": {},
   "source": [
    "### Set up "
   ]
  },
  {
   "cell_type": "code",
   "execution_count": 1,
   "metadata": {},
   "outputs": [],
   "source": [
    "# Python ≥3.5 is required\n",
    "import sys\n",
    "assert sys.version_info >= (3, 5)\n",
    "\n",
    "# Scikit-Learn ≥0.20 is required\n",
    "import sklearn\n",
    "assert sklearn.__version__ >= \"0.20\"\n",
    "\n",
    "# Common imports\n",
    "import numpy as np\n",
    "import pandas as pd\n",
    "import os\n",
    "from sklearn.metrics import confusion_matrix\n",
    "from sklearn.metrics import classification_report\n",
    "from sklearn.model_selection import train_test_split\n",
    "\n",
    "# To plot pretty figures\n",
    "%matplotlib inline\n",
    "import matplotlib as mpl\n",
    "import matplotlib.pyplot as plt\n",
    "mpl.rc('axes', labelsize=14)\n",
    "mpl.rc('xtick', labelsize=12)\n",
    "mpl.rc('ytick', labelsize=12)\n",
    "\n",
    "\n",
    "# to make this notebook's output stable across runs\n",
    "np.random.seed(42)\n",
    "\n",
    "# Where to save the figures\n",
    "PROJECT_ROOT_DIR = \".\"\n",
    "CHAPTER_ID = \"decision_trees\"\n",
    "IMAGES_PATH = os.path.join(PROJECT_ROOT_DIR, \"images\", CHAPTER_ID)\n",
    "\n",
    "os.makedirs(IMAGES_PATH, exist_ok=True)\n",
    "\n",
    "def save_fig(fig_id, tight_layout=True, fig_extension=\"png\", resolution=300):\n",
    "    path = os.path.join(IMAGES_PATH, fig_id + \".\" + fig_extension)\n",
    "    print(\"Saving figure\", fig_id)\n",
    "    if tight_layout:\n",
    "        plt.tight_layout()\n",
    "    plt.savefig(path, format=fig_extension, dpi=resolution)"
   ]
  },
  {
   "cell_type": "markdown",
   "metadata": {},
   "source": [
    "## Part 0\n",
    "\n",
    "- Read and run each cell of the given examples: (1) synthetic dataset (2) crime dataset\n",
    "\n",
    "- Understand the results. In particular, see how feature normalization affects on ridges regression and how the model performance changes when varying alpha parameter values are used in both ridge regression and Lasso regression. "
   ]
  },
  {
   "cell_type": "markdown",
   "metadata": {},
   "source": [
    "## Linear models for regression\n",
    "\n",
    "- Visit Ski-learn web site:\n",
    "\n",
    "https://scikit-learn.org/stable/modules/generated/sklearn.linear_model.LinearRegression.html"
   ]
  },
  {
   "cell_type": "markdown",
   "metadata": {},
   "source": [
    "### Model evaluation metrics for regression\n",
    "\n",
    "Model evaluation metrics for regression models\n",
    "Evaluation metrics for classification problems, such as accuracy, are not useful for regression problems. Instead, we need evaluation metrics designed for comparing continuous values.\n",
    "\n",
    "See more details: https://scikit-learn.org/stable/modules/model_evaluation.html"
   ]
  },
  {
   "cell_type": "markdown",
   "metadata": {},
   "source": [
    "**Mean Absolute Error** (MAE) is the mean of the absolute value of the errors:\n",
    "\n",
    "$$\\frac 1n\\sum_{i=1}^n|y_i-\\hat{y}_i|$$\n",
    "\n",
    "\n",
    "**Mean Squared Error** (MSE) is the mean of the squared errors:\n",
    "\n",
    "$$\\frac 1n\\sum_{i=1}^n(y_i-\\hat{y}_i)^2$$\n",
    "\n",
    "\n",
    "**Root Mean Squared Error** (RMSE) is the square root of the mean of the squared errors:\n",
    "\n",
    "$$\\sqrt{\\frac 1n\\sum_{i=1}^n(y_i-\\hat{y}_i)^2}$$\n",
    "\n",
    "\n",
    "Comparing these metrics:\n",
    "\n",
    "- **MAE** is the easiest to understand, because it's the average error.\n",
    "- **MSE** is more popular than MAE, because MSE \"punishes\" larger errors.\n",
    "- **RMSE** is even more popular than MSE, because RMSE is interpretable in the \"y\" units."
   ]
  },
  {
   "cell_type": "markdown",
   "metadata": {},
   "source": [
    "## The R2 (\"r-squared\") Regression Score\n",
    "\n",
    "- Measures how well a prediction model for regression fits the given data.\n",
    "\n",
    "- The score is between 0 and 1:\n",
    "\n",
    "     - A value of 0 corresponds to a constant model that predicts the mean value of all training target values.\n",
    "\n",
    "     - A value of 1 corresponds to perfect prediction\n",
    "\n",
    "- Also known as \"coefficient of determination\""
   ]
  },
  {
   "cell_type": "markdown",
   "metadata": {},
   "source": [
    "### Preparing X and Y using pandas\n",
    "- We already did this process above\n",
    "- scikit-learn expects X (feature matrix) and Y (response vector) to be NumPy arrays.\n",
    "- However, pandas is built on top of NumPy.\n",
    "- Thus, X can be a pandas DataFrame and y can be a pandas Series!"
   ]
  },
  {
   "cell_type": "markdown",
   "metadata": {},
   "source": [
    "### Dataset 1: Synthetic random data points"
   ]
  },
  {
   "cell_type": "code",
   "execution_count": 2,
   "metadata": {},
   "outputs": [
    {
     "data": {
      "image/png": "[encoded data removed]",
      "text/plain": [
       "<Figure size 432x288 with 1 Axes>"
      ]
     },
     "metadata": {
      "needs_background": "light"
     },
     "output_type": "display_data"
    }
   ],
   "source": [
    "from sklearn.datasets import make_classification, make_blobs\n",
    "from matplotlib.colors import ListedColormap\n",
    "\n",
    "# synthetic dataset for simple regression\n",
    "from sklearn.datasets import make_regression\n",
    "\n",
    "plt.figure()\n",
    "plt.title('Sample regression problem with one input variable')\n",
    "X_R1, y_R1 = make_regression(n_samples = 100, n_features=1,\n",
    "                             n_informative=1, bias = 150.0,\n",
    "                             noise = 30, random_state=0)\n",
    "\n",
    "plt.scatter(X_R1, y_R1, marker= 'o', s=50)\n",
    "plt.show()"
   ]
  },
  {
   "cell_type": "markdown",
   "metadata": {},
   "source": [
    "#### Linear regression on synthetic dataset\n"
   ]
  },
  {
   "cell_type": "code",
   "execution_count": 3,
   "metadata": {},
   "outputs": [],
   "source": [
    "from sklearn.linear_model import LinearRegression\n",
    "\n",
    "X_train, X_test, y_train, y_test = train_test_split(X_R1, y_R1, random_state=0)\n",
    "\n",
    "linreg = LinearRegression().fit(X_train, y_train)"
   ]
  },
  {
   "cell_type": "markdown",
   "metadata": {},
   "source": [
    "#### Linear regression model coefficient and intercept values \\& performance metrics"
   ]
  },
  {
   "cell_type": "code",
   "execution_count": 4,
   "metadata": {},
   "outputs": [
    {
     "name": "stdout",
     "output_type": "stream",
     "text": [
      "linear model intercept (b): 148.446\n",
      "linear model coeff (w): [45.70870465]\n",
      "R-squared score (training): 0.679\n",
      "R-squared score (test): 0.492\n",
      "RMSE: 33.203\n"
     ]
    }
   ],
   "source": [
    "from sklearn import metrics\n",
    "\n",
    "print('linear model intercept (b): {:.3f}'.format(linreg.intercept_))\n",
    "print('linear model coeff (w): {}'.format(linreg.coef_))\n",
    "\n",
    "# train data R2\n",
    "print('R-squared score (training): {:.3f}'.format(linreg.score(X_train, y_train)))\n",
    "# test data R2\n",
    "print('R-squared score (test): {:.3f}'.format(linreg.score(X_test, y_test)))\n",
    "\n",
    "# make predictions on the testing set and print RMSE\n",
    "y_pred = linreg.predict(X_test)\n",
    "print('RMSE: {:.3f}'.format(np.sqrt(metrics.mean_squared_error(y_test, y_pred))))"
   ]
  },
  {
   "cell_type": "markdown",
   "metadata": {},
   "source": [
    "#### Obtain theta using close form\n",
    "\n",
    "<img src=\"images/cf.png\" style=\"width: 200px;\">"
   ]
  },
  {
   "cell_type": "code",
   "execution_count": 5,
   "metadata": {},
   "outputs": [
    {
     "data": {
      "text/plain": [
       "array([147.55745452,  43.08728116])"
      ]
     },
     "execution_count": 5,
     "metadata": {},
     "output_type": "execute_result"
    }
   ],
   "source": [
    "X_b = np.c_[np.ones((100, 1)), X_R1]  # add x0 = 1 to each instance\n",
    "\n",
    "theta_best = np.linalg.inv(X_b.T.dot(X_b)).dot(X_b.T).dot(y_R1)\n",
    "theta_best"
   ]
  },
  {
   "cell_type": "markdown",
   "metadata": {},
   "source": [
    "#### plot the linear model with scatter plot"
   ]
  },
  {
   "cell_type": "code",
   "execution_count": 6,
   "metadata": {},
   "outputs": [
    {
     "data": {
      "image/png": "[encoded data removed]",
      "text/plain": [
       "<Figure size 360x288 with 1 Axes>"
      ]
     },
     "metadata": {
      "needs_background": "light"
     },
     "output_type": "display_data"
    }
   ],
   "source": [
    "plt.figure(figsize=(5,4))\n",
    "plt.scatter(X_R1, y_R1, marker= 'o', s=50, alpha=0.8)\n",
    "plt.plot(X_R1, linreg.coef_ * X_R1 + linreg.intercept_, 'r-')\n",
    "plt.title('Least-squares linear regression')\n",
    "plt.xlabel('Feature value (x)')\n",
    "plt.ylabel('Target value (y)')\n",
    "plt.show()"
   ]
  },
  {
   "cell_type": "markdown",
   "metadata": {},
   "source": [
    "### Dataset 2: crime dataset"
   ]
  },
  {
   "cell_type": "code",
   "execution_count": 7,
   "metadata": {},
   "outputs": [
    {
     "name": "stdout",
     "output_type": "stream",
     "text": [
      "   population  householdsize  agePct12t21  agePct12t29  agePct16t24  \\\n",
      "0       11980           3.10        12.47        21.44        10.93   \n",
      "1       23123           2.82        11.01        21.30        10.48   \n",
      "2       29344           2.43        11.36        25.88        11.01   \n",
      "3       16656           2.40        12.55        25.20        12.19   \n",
      "5      140494           2.45        18.09        32.89        20.04   \n",
      "\n",
      "   agePct65up  numbUrban  pctUrban  medIncome  pctWWage  ...  \\\n",
      "0       11.33      11980     100.0      75122     89.24  ...   \n",
      "1       17.18      23123     100.0      47917     78.99  ...   \n",
      "2       10.28      29344     100.0      35669     82.00  ...   \n",
      "3       17.57          0       0.0      20580     68.15  ...   \n",
      "5       13.26     140494     100.0      21577     75.78  ...   \n",
      "\n",
      "   MedRentPctHousInc  MedOwnCostPctInc  MedOwnCostPctIncNoMtg  NumInShelters  \\\n",
      "0               23.8              21.1                   14.0             11   \n",
      "1               27.6              20.7                   12.5              0   \n",
      "2               24.1              21.7                   11.6             16   \n",
      "3               28.7              20.6                   14.5              0   \n",
      "5               26.4              17.3                   11.7            327   \n",
      "\n",
      "   NumStreet  PctForeignBorn  PctBornSameState  PctSameHouse85  PctSameCity85  \\\n",
      "0          0           10.66             53.72           65.29          78.09   \n",
      "1          0            8.30             77.17           71.27          90.22   \n",
      "2          0            5.00             44.77           36.60          61.26   \n",
      "3          0            2.04             88.71           56.70          90.17   \n",
      "5          4            1.49             64.35           42.29          70.61   \n",
      "\n",
      "   PctSameState85  \n",
      "0           89.14  \n",
      "1           96.12  \n",
      "2           82.85  \n",
      "3           96.24  \n",
      "5           85.66  \n",
      "\n",
      "[5 rows x 88 columns]\n",
      "0     41.02\n",
      "1    127.56\n",
      "2    218.59\n",
      "3    306.64\n",
      "5    442.95\n",
      "Name: ViolentCrimesPerPop, dtype: float64\n"
     ]
    }
   ],
   "source": [
    "def load_crime_dataset():\n",
    "    # Communities and Crime dataset for regression\n",
    "    # https://archive.ics.uci.edu/ml/datasets/Communities+and+Crime+Unnormalized\n",
    "\n",
    "    # na_values='?'\n",
    "    crime = pd.read_csv('./data/CommViolPredUnnormalizedData.csv', na_values='?')\n",
    "    # remove features with poor coverage or lower relevance, and keep ViolentCrimesPerPop target column\n",
    "    columns_to_keep = [5, 6] + list(range(11,26)) + list(range(32, 103)) + [145]  \n",
    "    \n",
    "    crime = crime.iloc[:, columns_to_keep]\n",
    "    crime = crime.dropna()\n",
    "    \n",
    "    X_crime = crime.iloc[:, 0:88]\n",
    "    y_crime = crime['ViolentCrimesPerPop']\n",
    "\n",
    "    return (X_crime, y_crime)\n",
    "\n",
    "# Communities and Crime dataset\n",
    "(X_crime, y_crime) = load_crime_dataset()\n",
    "\n",
    "print(X_crime.head())\n",
    "print(y_crime.head())"
   ]
  },
  {
   "cell_type": "markdown",
   "metadata": {},
   "source": [
    "#### Linear regression on crime dataset (without regularization)"
   ]
  },
  {
   "cell_type": "code",
   "execution_count": 10,
   "metadata": {},
   "outputs": [
    {
     "name": "stdout",
     "output_type": "stream",
     "text": [
      "Crime dataset\n",
      "R-squared score (training): 0.673\n",
      "R-squared score (test): 0.496\n",
      "RMSE: 454.949\n",
      "linear model intercept: -1728.1306725991394\n",
      "linear model coeff:\n",
      "[ 1.61892346e-03 -9.43009110e+01  1.36067510e+01 -3.13380670e+01\n",
      " -8.15482725e-02 -1.69455128e+01 -2.42730375e-03  1.53013232e+00\n",
      " -1.39193248e-02 -7.72112833e+00  2.28112354e+01 -5.65708295e+00\n",
      "  9.34751364e+00  2.06969566e-01 -7.43413626e+00  9.65856476e-03\n",
      "  4.38030290e-03  4.79754625e-03 -4.46469212e+00 -1.60907140e+01\n",
      "  8.82778012e+00 -5.06734503e-01 -1.42198055e+00  8.17551991e+00\n",
      " -3.87048268e+00 -3.54209213e+00  4.48758304e+00  9.30645715e+00\n",
      "  1.73644996e+02  1.18220766e+01  1.51120836e+02 -3.29613007e+02\n",
      " -1.35343395e+02  6.95380108e-01 -2.38369008e+01  2.77038981e+00\n",
      "  3.82248925e-01  4.38813358e+00 -1.06410851e+01 -4.92294176e-03\n",
      "  4.14031827e+01 -1.16206866e-03  1.18568968e+00  1.75418465e+00\n",
      " -3.68283678e+00  1.59679443e+00 -8.42180230e+00 -3.79703897e+01\n",
      "  4.74076990e+01 -2.50768374e+01 -2.88246410e-01 -3.65633234e+01\n",
      "  1.89516080e+01 -4.53336736e+01  6.82698598e+02  1.04478671e+02\n",
      " -3.28575414e+02 -3.14364068e+01  2.74053494e+01  5.12336432e+00\n",
      "  6.91580764e+01  1.98267157e-02 -6.12133638e-01  2.65335065e+01\n",
      "  1.00704633e+01 -1.58621594e+00  2.24025322e+00  7.38288450e+00\n",
      " -3.13915504e+01 -9.77979765e-05  5.01970944e-05 -3.48047182e-04\n",
      " -2.50238166e-04 -5.26610456e-01 -5.16564774e-01 -4.10464090e-01\n",
      "  1.16146366e-01  1.46167357e+00 -3.04019816e-01  2.43792841e+00\n",
      " -3.65615457e+01  1.41488917e-01  2.88800603e-01  1.77464865e+01\n",
      "  5.96587698e-01  1.98257510e+00 -1.36380442e-01 -1.85303461e+00]\n",
      "Number of non-zero features: 88\n"
     ]
    }
   ],
   "source": [
    "X_train, X_test, y_train, y_test = train_test_split(X_crime, y_crime, random_state=0)\n",
    "linreg = LinearRegression().fit(X_train, y_train)\n",
    "\n",
    "print('Crime dataset')\n",
    "print('R-squared score (training): {:.3f}'\n",
    "     .format(linreg.score(X_train, y_train)))\n",
    "print('R-squared score (test): {:.3f}'\n",
    "     .format(linreg.score(X_test, y_test)))\n",
    "\n",
    "# make predictions on the testing set\n",
    "y_pred = linreg.predict(X_test)\n",
    "print('RMSE: {:.3f}'.format(np.sqrt(metrics.mean_squared_error(y_test, y_pred))))\n",
    "\n",
    "print('linear model intercept: {}'.format(linreg.intercept_))\n",
    "print('linear model coeff:\\n{}'.format(linreg.coef_))\n",
    "\n",
    "print('Number of non-zero features: {}'.format(np.sum(linreg.coef_ != 0)))"
   ]
  },
  {
   "cell_type": "markdown",
   "metadata": {},
   "source": [
    "#### Ridge regression (regularized regression)"
   ]
  },
  {
   "cell_type": "code",
   "execution_count": 11,
   "metadata": {},
   "outputs": [
    {
     "name": "stdout",
     "output_type": "stream",
     "text": [
      "Crime dataset\n",
      "R-squared score (training): 0.671\n",
      "R-squared score (test): 0.494\n",
      "RMSE: 454.949\n",
      "ridge regression linear model intercept: -3352.4230358463997\n",
      "ridge regression linear model coeff:\n",
      "[ 1.95091438e-03  2.19322667e+01  9.56286607e+00 -3.59178973e+01\n",
      "  6.36465325e+00 -1.96885471e+01 -2.80715856e-03  1.66254486e+00\n",
      " -6.61426604e-03 -6.95450680e+00  1.71944731e+01 -5.62819154e+00\n",
      "  8.83525114e+00  6.79085746e-01 -7.33614221e+00  6.70389803e-03\n",
      "  9.78505502e-04  5.01202169e-03 -4.89870524e+00 -1.79270062e+01\n",
      "  9.17572382e+00 -1.24454193e+00  1.21845360e+00  1.03233089e+01\n",
      " -3.78037278e+00 -3.73428973e+00  4.74595305e+00  8.42696855e+00\n",
      "  3.09250005e+01  1.18644167e+01 -2.05183675e+00 -3.82210450e+01\n",
      "  1.85081589e+01  1.52510829e+00 -2.20086608e+01  2.46283912e+00\n",
      "  3.29328703e-01  4.02228467e+00 -1.12903533e+01 -4.69567413e-03\n",
      "  4.27046505e+01 -1.22507167e-03  1.40795790e+00  9.35041855e-01\n",
      " -3.00464253e+00  1.12390514e+00 -1.82487653e+01 -1.54653407e+01\n",
      "  2.41917002e+01 -1.32497562e+01 -4.20113118e-01 -3.59710660e+01\n",
      "  1.29786751e+01 -2.80765995e+01  4.38513476e+01  3.86590044e+01\n",
      " -6.46024046e+01 -1.63714023e+01  2.90397330e+01  4.15472907e+00\n",
      "  5.34033563e+01  1.98773191e-02 -5.47413979e-01  1.23883518e+01\n",
      "  1.03526583e+01 -1.57238894e+00  3.15887097e+00  8.77757987e+00\n",
      " -2.94724962e+01 -2.32920891e-04  3.13528914e-04 -4.13702920e-04\n",
      " -1.79776550e-04 -5.74054526e-01 -5.17742507e-01 -4.20670932e-01\n",
      "  1.53383595e-01  1.32725423e+00  3.84863158e+00  3.03024594e+00\n",
      " -3.77692644e+01  1.37933464e-01  3.07676522e-01  1.57128807e+01\n",
      "  3.31418306e-01  3.35994414e+00  1.61265911e-01 -2.67619878e+00]\n",
      "Number of non-zero features: 88\n"
     ]
    }
   ],
   "source": [
    "from sklearn.linear_model import Ridge\n",
    "X_train, X_test, y_train, y_test = train_test_split(X_crime, y_crime, random_state=0)\n",
    "\n",
    "linridge = Ridge(alpha=20.0).fit(X_train, y_train)\n",
    "\n",
    "print('Crime dataset')\n",
    "\n",
    "print('R-squared score (training): {:.3f}'\n",
    "     .format(linridge.score(X_train, y_train)))\n",
    "print('R-squared score (test): {:.3f}'\n",
    "     .format(linridge.score(X_test, y_test)))\n",
    "\n",
    "# make predictions on the testing set\n",
    "y_pred = linreg.predict(X_test)\n",
    "print('RMSE: {:.3f}'.format(np.sqrt(metrics.mean_squared_error(y_test, y_pred))))\n",
    "\n",
    "print('ridge regression linear model intercept: {}'.format(linridge.intercept_))\n",
    "print('ridge regression linear model coeff:\\n{}'.format(linridge.coef_))\n",
    "\n",
    "print('Number of non-zero features: {}'.format(np.sum(linridge.coef_ != 0)))"
   ]
  },
  {
   "cell_type": "markdown",
   "metadata": {},
   "source": [
    "#### Ridge regression with feature normalization"
   ]
  },
  {
   "cell_type": "code",
   "execution_count": 12,
   "metadata": {},
   "outputs": [
    {
     "name": "stdout",
     "output_type": "stream",
     "text": [
      "Crime dataset\n",
      "R-squared score (training): 0.615\n",
      "R-squared score (test): 0.599\n",
      "RMSE: 454.949\n",
      "ridge regression linear model intercept: 933.390638504416\n",
      "ridge regression linear model coeff:\n",
      "[  88.68827454   16.48947987  -50.30285445  -82.90507574  -65.89507244\n",
      "   -2.27674244   87.74108514  150.94862182   18.8802613   -31.05554992\n",
      "  -43.13536109 -189.44266328   -4.52658099  107.97866804  -76.53358414\n",
      "    2.86032762   34.95230077   90.13523036   52.46428263  -62.10898424\n",
      "  115.01780357    2.66942023    6.94331369   -5.66646499 -101.55269144\n",
      "  -36.9087526    -8.7053343    29.11999068  171.25963057   99.36919476\n",
      "   75.06611841  123.63522539   95.24316483 -330.61044265 -442.30179004\n",
      " -284.49744001 -258.37150609   17.66431072 -101.70717151  110.64762887\n",
      "  523.13611718   24.8208959     4.86533322  -30.46775619   -3.51753937\n",
      "   50.57947231   10.84840601   18.27680946   44.11189865   58.33588176\n",
      "   67.08698975  -57.93524659  116.1446052    53.81163718   49.01607711\n",
      "   -7.62262031   55.14288543  -52.08878272  123.39291017   77.12562171\n",
      "   45.49795317  184.91229771  -91.35721203    1.07975971  234.09267451\n",
      "   10.3887921    94.7171829   167.91856631  -25.14025088   -1.18242839\n",
      "   14.60362467   36.77122659   53.19878339  -78.86365997   -5.89858411\n",
      "   26.04790298  115.1534917    68.74143311   68.28588166   16.5260514\n",
      "  -97.90513652  205.20448474   75.97304123   61.3791085   -79.83157049\n",
      "   67.26700741   95.67094538  -11.88380569]\n",
      "Number of non-zero features: 88\n"
     ]
    }
   ],
   "source": [
    "from sklearn.preprocessing import MinMaxScaler\n",
    "scaler = MinMaxScaler()\n",
    "\n",
    "from sklearn.linear_model import Ridge\n",
    "X_train, X_test, y_train, y_test = train_test_split(X_crime, y_crime,\n",
    "                                                   random_state = 0)\n",
    "\n",
    "X_train_scaled = scaler.fit_transform(X_train)\n",
    "X_test_scaled = scaler.transform(X_test)\n",
    "\n",
    "linridge = Ridge(alpha=20.0).fit(X_train_scaled, y_train)\n",
    "\n",
    "print('Crime dataset')\n",
    "print('R-squared score (training): {:.3f}'\n",
    "     .format(linridge.score(X_train_scaled, y_train)))\n",
    "print('R-squared score (test): {:.3f}'\n",
    "     .format(linridge.score(X_test_scaled, y_test)))\n",
    "\n",
    "# make predictions on the testing set\n",
    "y_pred = linreg.predict(X_test)\n",
    "print('RMSE: {:.3f}'.format(np.sqrt(metrics.mean_squared_error(y_test, y_pred))))\n",
    "\n",
    "print('ridge regression linear model intercept: {}'.format(linridge.intercept_))\n",
    "print('ridge regression linear model coeff:\\n{}'.format(linridge.coef_))\n",
    "\n",
    "print('Number of non-zero features: {}'.format(np.sum(linridge.coef_ != 0)))"
   ]
  },
  {
   "cell_type": "markdown",
   "metadata": {},
   "source": [
    "#### Ridge regression with regularization parameter: alpha"
   ]
  },
  {
   "cell_type": "code",
   "execution_count": 13,
   "metadata": {},
   "outputs": [
    {
     "name": "stdout",
     "output_type": "stream",
     "text": [
      "Ridge regression: effect of alpha regularization parameter\n",
      "\n",
      "Alpha = 0.00\n",
      "num abs(coeff) > 1.0: 88, r-squared training: 0.67, r-squared test: 0.48\n",
      "\n",
      "Alpha = 1.00\n",
      "num abs(coeff) > 1.0: 87, r-squared training: 0.66, r-squared test: 0.56\n",
      "\n",
      "Alpha = 10.00\n",
      "num abs(coeff) > 1.0: 87, r-squared training: 0.63, r-squared test: 0.59\n",
      "\n",
      "Alpha = 20.00\n",
      "num abs(coeff) > 1.0: 88, r-squared training: 0.61, r-squared test: 0.60\n",
      "\n",
      "Alpha = 50.00\n",
      "num abs(coeff) > 1.0: 86, r-squared training: 0.58, r-squared test: 0.58\n",
      "\n",
      "Alpha = 100.00\n",
      "num abs(coeff) > 1.0: 87, r-squared training: 0.55, r-squared test: 0.55\n",
      "\n",
      "Alpha = 1000.00\n",
      "num abs(coeff) > 1.0: 84, r-squared training: 0.31, r-squared test: 0.30\n",
      "\n"
     ]
    }
   ],
   "source": [
    "print('Ridge regression: effect of alpha regularization parameter\\n')\n",
    "for this_alpha in [0, 1, 10, 20, 50, 100, 1000]:\n",
    "    linridge = Ridge(alpha = this_alpha).fit(X_train_scaled, y_train)\n",
    "    r2_train = linridge.score(X_train_scaled, y_train)\n",
    "    r2_test = linridge.score(X_test_scaled, y_test)\n",
    "    num_coeff_bigger = np.sum(abs(linridge.coef_) > 1.0)\n",
    "    print('Alpha = {:.2f}\\nnum abs(coeff) > 1.0: {}, \\\n",
    "r-squared training: {:.2f}, r-squared test: {:.2f}\\n'\n",
    "         .format(this_alpha, num_coeff_bigger, r2_train, r2_test))"
   ]
  },
  {
   "cell_type": "markdown",
   "metadata": {},
   "source": [
    "### Lasso regression"
   ]
  },
  {
   "cell_type": "code",
   "execution_count": 15,
   "metadata": {},
   "outputs": [
    {
     "name": "stdout",
     "output_type": "stream",
     "text": [
      "Crime dataset\n",
      "R-squared score (training): 0.631\n",
      "R-squared score (test): 0.624\n",
      "\n",
      "RMSE: 454.949\n",
      "lasso regression linear model intercept: 1186.6120619985788\n",
      "lasso regression linear model coeff:\n",
      "[    0.             0.            -0.          -168.18346054\n",
      "    -0.            -0.             0.           119.6938194\n",
      "     0.            -0.             0.          -169.67564456\n",
      "    -0.             0.            -0.             0.\n",
      "     0.             0.            -0.            -0.\n",
      "     0.            -0.             0.             0.\n",
      "   -57.52991966    -0.            -0.             0.\n",
      "   259.32889226    -0.             0.             0.\n",
      "     0.            -0.         -1188.7396867     -0.\n",
      "    -0.            -0.          -231.42347299     0.\n",
      "  1488.36512229     0.            -0.            -0.\n",
      "    -0.             0.             0.             0.\n",
      "     0.             0.            -0.             0.\n",
      "    20.14419415     0.             0.             0.\n",
      "     0.             0.           339.04468804     0.\n",
      "     0.           459.53799903    -0.             0.\n",
      "   122.69221826    -0.            91.41202242     0.\n",
      "    -0.             0.             0.            73.14365856\n",
      "     0.            -0.             0.             0.\n",
      "    86.35600042     0.             0.             0.\n",
      "  -104.57143405   264.93206555     0.            23.4488645\n",
      "   -49.39355188     0.             5.19775369     0.        ]\n",
      "Non-zero features: 20\n",
      "Features with non-zero weight (sorted by absolute magnitude):\n",
      "\tPctKidsBornNeverMar, 1488.365\n",
      "\tPctKids2Par, -1188.740\n",
      "\tHousVacant, 459.538\n",
      "\tPctPersDenseHous, 339.045\n",
      "\tNumInShelters, 264.932\n",
      "\tMalePctDivorce, 259.329\n",
      "\tPctWorkMom, -231.423\n",
      "\tpctWInvInc, -169.676\n",
      "\tagePct12t29, -168.183\n",
      "\tPctVacantBoarded, 122.692\n",
      "\tpctUrban, 119.694\n",
      "\tMedOwnCostPctIncNoMtg, -104.571\n",
      "\tMedYrHousBuilt, 91.412\n",
      "\tRentQrange, 86.356\n",
      "\tOwnOccHiQuart, 73.144\n",
      "\tPctEmplManu, -57.530\n",
      "\tPctBornSameState, -49.394\n",
      "\tPctForeignBorn, 23.449\n",
      "\tPctLargHouseFam, 20.144\n",
      "\tPctSameCity85, 5.198\n"
     ]
    }
   ],
   "source": [
    "from sklearn.linear_model import Lasso\n",
    "from sklearn.preprocessing import MinMaxScaler\n",
    "scaler = MinMaxScaler()\n",
    "\n",
    "X_train, X_test, y_train, y_test = train_test_split(X_crime, y_crime,\n",
    "                                                   random_state = 0)\n",
    "\n",
    "X_train_scaled = scaler.fit_transform(X_train)\n",
    "X_test_scaled = scaler.transform(X_test)\n",
    "\n",
    "linlasso = Lasso(alpha=2.0, max_iter = 10000).fit(X_train_scaled, y_train)\n",
    "\n",
    "print('Crime dataset')\n",
    "\n",
    "print('R-squared score (training): {:.3f}'\n",
    "     .format(linlasso.score(X_train_scaled, y_train)))\n",
    "print('R-squared score (test): {:.3f}\\n'\n",
    "     .format(linlasso.score(X_test_scaled, y_test)))\n",
    "\n",
    "# make predictions on the testing set\n",
    "y_pred = linreg.predict(X_test)\n",
    "print('RMSE: {:.3f}'.format(np.sqrt(metrics.mean_squared_error(y_test, y_pred))))\n",
    "    \n",
    "print('lasso regression linear model intercept: {}'.format(linlasso.intercept_))\n",
    "print('lasso regression linear model coeff:\\n{}'.format(linlasso.coef_))\n",
    "\n",
    "print('Non-zero features: {}'.format(np.sum(linlasso.coef_ != 0)))\n",
    " \n",
    "print('Features with non-zero weight (sorted by absolute magnitude):')\n",
    "for e in sorted (list(zip(list(X_crime), linlasso.coef_)),\n",
    "                key = lambda e: -abs(e[1])):\n",
    "    if e[1] != 0:\n",
    "        print('\\t{}, {:.3f}'.format(e[0], e[1]))"
   ]
  },
  {
   "cell_type": "markdown",
   "metadata": {},
   "source": [
    "#### Lasso regression with regularization parameter: alpha"
   ]
  },
  {
   "cell_type": "code",
   "execution_count": 16,
   "metadata": {},
   "outputs": [
    {
     "name": "stdout",
     "output_type": "stream",
     "text": [
      "Lasso regression: effect of alpha regularization\n",
      "parameter on number of features kept in final model\n",
      "\n",
      "Alpha = 0.50\n",
      "Features kept: 35, r-squared training: 0.65, r-squared test: 0.58\n",
      "\n",
      "Alpha = 1.00\n",
      "Features kept: 25, r-squared training: 0.64, r-squared test: 0.60\n",
      "\n",
      "Alpha = 2.00\n",
      "Features kept: 20, r-squared training: 0.63, r-squared test: 0.62\n",
      "\n",
      "Alpha = 3.00\n",
      "Features kept: 17, r-squared training: 0.62, r-squared test: 0.63\n",
      "\n",
      "Alpha = 5.00\n",
      "Features kept: 12, r-squared training: 0.60, r-squared test: 0.61\n",
      "\n",
      "Alpha = 10.00\n",
      "Features kept: 6, r-squared training: 0.57, r-squared test: 0.58\n",
      "\n",
      "Alpha = 20.00\n",
      "Features kept: 2, r-squared training: 0.51, r-squared test: 0.50\n",
      "\n",
      "Alpha = 50.00\n",
      "Features kept: 1, r-squared training: 0.31, r-squared test: 0.30\n",
      "\n"
     ]
    }
   ],
   "source": [
    "print('Lasso regression: effect of alpha regularization\\n\\\n",
    "parameter on number of features kept in final model\\n')\n",
    "\n",
    "for alpha in [0.5, 1, 2, 3, 5, 10, 20, 50]:\n",
    "    linlasso = Lasso(alpha, max_iter = 10000).fit(X_train_scaled, y_train)\n",
    "    r2_train = linlasso.score(X_train_scaled, y_train)\n",
    "    r2_test = linlasso.score(X_test_scaled, y_test)\n",
    "    \n",
    "    print('Alpha = {:.2f}\\nFeatures kept: {}, r-squared training: {:.2f}, \\\n",
    "r-squared test: {:.2f}\\n'\n",
    "         .format(alpha, np.sum(linlasso.coef_ != 0), r2_train, r2_test))"
   ]
  },
  {
   "cell_type": "markdown",
   "metadata": {},
   "source": [
    "## TW6 Part 1\n",
    "\n",
    "Apply the following regression model on breast cancer dataset\n",
    "\n",
    "(1) Linear regression without regularization\n",
    "\n",
    "(2) Ridge regression \n",
    "\n",
    "(3) Ridge regression with feature normalization\n",
    "\n",
    "(4) Ridge regression with regularization parameter: alpha\n",
    "\n",
    "(5) Lasso regression\n",
    "\n",
    "(6) Lasso regression with regularization parameter: alpha"
   ]
  },
  {
   "cell_type": "markdown",
   "metadata": {},
   "source": [
    "### Dataset 3: Breast cancer dataset"
   ]
  },
  {
   "cell_type": "code",
   "execution_count": null,
   "metadata": {},
   "outputs": [],
   "source": [
    "from sklearn.datasets import load_breast_cancer\n",
    "\n",
    "# Breast cancer dataset for classification\n",
    "cancer = load_breast_cancer()\n",
    "(X_cancer, y_cancer) = load_breast_cancer(return_X_y = True)\n",
    "\n",
    "print(cancer.feature_names)\n",
    "print(y_cancer)"
   ]
  },
  {
   "cell_type": "markdown",
   "metadata": {},
   "source": [
    "(1) Linear regression without regularization"
   ]
  },
  {
   "cell_type": "code",
   "execution_count": null,
   "metadata": {},
   "outputs": [],
   "source": []
  },
  {
   "cell_type": "markdown",
   "metadata": {},
   "source": [
    "(2) Ridge regression "
   ]
  },
  {
   "cell_type": "code",
   "execution_count": null,
   "metadata": {},
   "outputs": [],
   "source": []
  },
  {
   "cell_type": "markdown",
   "metadata": {},
   "source": [
    "(3) Ridge regression with feature normalization"
   ]
  },
  {
   "cell_type": "code",
   "execution_count": null,
   "metadata": {},
   "outputs": [],
   "source": []
  },
  {
   "cell_type": "markdown",
   "metadata": {},
   "source": [
    "(4) Ridge regression with regularization parameter: alpha"
   ]
  },
  {
   "cell_type": "code",
   "execution_count": null,
   "metadata": {},
   "outputs": [],
   "source": []
  },
  {
   "cell_type": "markdown",
   "metadata": {},
   "source": [
    "(5) Lasso regression"
   ]
  },
  {
   "cell_type": "code",
   "execution_count": null,
   "metadata": {},
   "outputs": [],
   "source": []
  },
  {
   "cell_type": "markdown",
   "metadata": {},
   "source": [
    "(6) Lasso regression with regularization parameter: alpha"
   ]
  },
  {
   "cell_type": "code",
   "execution_count": null,
   "metadata": {},
   "outputs": [],
   "source": []
  },
  {
   "cell_type": "markdown",
   "metadata": {},
   "source": [
    "## Part 2\n",
    "\n",
    "- Read and run each cell of the given examples: (1) synthetic dataset (2) crime dataset\n",
    "- Understand the results"
   ]
  },
  {
   "cell_type": "code",
   "execution_count": null,
   "metadata": {},
   "outputs": [],
   "source": []
  }
 ],
 "metadata": {
  "anaconda-cloud": {},
  "kernelspec": {
   "display_name": "Python 3",
   "language": "python",
   "name": "python3"
  },
  "language_info": {
   "codemirror_mode": {
    "name": "ipython",
    "version": 3
   },
   "file_extension": ".py",
   "mimetype": "text/x-python",
   "name": "python",
   "nbconvert_exporter": "python",
   "pygments_lexer": "ipython3",
   "version": "3.7.3"
  }
 },
 "nbformat": 4,
 "nbformat_minor": 2
}
